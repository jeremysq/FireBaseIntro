{
 "cells": [
  {
   "cell_type": "markdown",
   "metadata": {},
   "source": []
  },
  {
   "cell_type": "markdown",
   "metadata": {},
   "source": [
    "# Introduction to Firebase\n",
    "##  Here, we will learn how to:\n",
    " - Set up Firebase on the Console\n",
    " - Setting up a Document and Collections\n",
    " - Retrieving, updating, and deleting Documents/Collections"
   ]
  },
  {
   "cell_type": "markdown",
   "metadata": {},
   "source": [
    "## Set up Firebase on the Console\n",
    " Start by creating a project:\n",
    "  - Enabling Google Analytics is entirely your choice. If so, the default settings are fine."
   ]
  },
  {
   "cell_type": "markdown",
   "metadata": {},
   "source": [
    "<img src=\"images/welcome.png\" style=\"width: 400px\" />  <img src=\"images/arrow.jpg\" style=\"width: 200px\" /> <img src=\"images/projectName.png\" style=\"width: 400px\" />"
   ]
  },
  {
   "cell_type": "markdown",
   "metadata": {},
   "source": [
    "### Project Overview\n",
    "This will be your project's homepage. <br>\n",
    "On the main console, you decide on what platform to set up Firebase with. <br>\n",
    "On the left-hand side, you can access general services that come with Firebase: <br>"
   ]
  },
  {
   "cell_type": "markdown",
   "metadata": {},
   "source": [
    "<img src=\"images/projectOverview.png\" style=\"width: 1000px\" />"
   ]
  },
  {
   "cell_type": "markdown",
   "metadata": {},
   "source": [
    "#### For the sake of this tutorial, we will set up an application for the Web ( </> ):\n",
    "  For this case, we will not set up Firebase Hosting. <br>\n",
    "  Firebase Hosting allows for you to host your webpages with Firebase integrated. You can read more about it <a href=\"https://firebase.google.com/docs/hosting/?authuser=0\"> here. </a>"
   ]
  },
  {
   "cell_type": "markdown",
   "metadata": {},
   "source": [
    "<img src=\"images/addFirebaseName.png\" style=\"width: 400px\" />"
   ]
  },
  {
   "cell_type": "markdown",
   "metadata": {},
   "source": [
    "### Registering your App on your web application\n",
    "  Once the name has been registered, Firebase provides a template to initialize the service on your application. <br>\n",
    "  For the web version, the template provided is written in JavaScript. <br>"
   ]
  },
  {
   "cell_type": "markdown",
   "metadata": {},
   "source": [
    "<img src=\"images/addFirebaseSDK.png\" style=\"width: 500px\" />"
   ]
  },
  {
   "cell_type": "markdown",
   "metadata": {},
   "source": [
    "#### The above mentioned code is written in JS. Let's implement it.\n",
    "  For this demonstration, we use the Node.js environment. <br>\n",
    "  I have developed a simple frontend that interacts with the Firestore to show how some methods work."
   ]
  },
  {
   "cell_type": "markdown",
   "metadata": {},
   "source": [
    "### Cloud Firestore\n",
    "#### Records in Firestore are stored in Collections, and Documents.\n",
    "  When trying to create new records, you will need to specify what collection, and document these records will be written to. <br>\n",
    "  <b> For this demonstration, I have built a basic NodeJS project that hosts a template to interact with Cloud Firestore </b> <br>\n",
    "  To get things started, go to the Database tab to allow Firestore as a service in your project: "
   ]
  },
  {
   "cell_type": "markdown",
   "metadata": {},
   "source": [
    "<img src=\"images/firestoreOverview.png\" style=\"width: 800px\" />"
   ]
  },
  {
   "cell_type": "markdown",
   "metadata": {},
   "source": [
    "#### Create a new database\n",
    "  For testing purposes, creating the database in test mode is recommended. <br>\n",
    "  All reading and writing restrictions are lifted for a maximum of 30 days, allowing you to test the Database without any restrictions set by the service."
   ]
  },
  {
   "cell_type": "markdown",
   "metadata": {},
   "source": [
    " <img src=\"images/firestoreCreate.png\" style=\"width: 500px\" />"
   ]
  },
  {
   "cell_type": "markdown",
   "metadata": {},
   "source": [
    "#### NodeJS backend\n",
    "  Here is a look at the Javascript backend, and how firebase was initialized:"
   ]
  },
  {
   "cell_type": "markdown",
   "metadata": {},
   "source": [
    "<img src=\"images/nodeInitialize.png\" style=\"width: 500px\" />"
   ]
  },
  {
   "cell_type": "markdown",
   "metadata": {},
   "source": [
    "The <b>require</b> statements imports firebase's services to your application. <br>\n",
    "If you don't have them installed in your project, navigate into the website folder, and run: <br>\n",
    "#### npm install firebase\n",
    "or\n",
    "#### yarn add firebase\n",
    "Depending if you're using npm or yarn as your JS packaging software.?"
   ]
  },
  {
   "cell_type": "markdown",
   "metadata": {},
   "source": [
    "#### Adding a record to your Database\n",
    " On the Firestore console, you can view your Database as such:"
   ]
  },
  {
   "cell_type": "markdown",
   "metadata": {},
   "source": [
    "<img src=\"images/firestoreDBConsole.png\" style=\"width: 700px\" />"
   ]
  },
  {
   "cell_type": "markdown",
   "metadata": {},
   "source": [
    "As mentioned before, there is an application made to help visualize the process of interacting with Firebase, here's a look at the interface:"
   ]
  },
  {
   "cell_type": "markdown",
   "metadata": {},
   "source": [
    "<img src=\"images/frontEndDefault.png\" style=\"images/width:500px\" />"
   ]
  },
  {
   "cell_type": "markdown",
   "metadata": {},
   "source": [
    "Since everything regarding Firebase(and its configuration) has been initialized already, we can already start interacting with our Database! <br>\n",
    "Here, we will add a record with: <br>\n",
    "Collection Name = 'Collection' <br>\n",
    "Document Name = 'Document' <br>\n",
    "and the corresponding values:"
   ]
  },
  {
   "cell_type": "markdown",
   "metadata": {},
   "source": [
    "<img src=\"images/frontEndAdd.png\" style=\"width: 400px\" /> <img src=\"images/nodeJSAdd.png\" style=\"width: 500px;\" />?"
   ]
  },
  {
   "cell_type": "markdown",
   "metadata": {},
   "source": [
    "#### The left-hand side is the interface, the right-hand side is the function itself.\n",
    "  The right-hand side has had some of its parameters hardcoded just for this image to better give an idea of how data should be sent. <br>\n",
    "  <b> All interactions to Firebase must take this form of collection.document to navigate through records </b> <br>\n",
    "  Now if we take a look at Firestore, our new record has been added!"
   ]
  },
  {
   "cell_type": "markdown",
   "metadata": {},
   "source": [
    "<img src=\"images/firestoreDBAdd.png\" style=\"width: 900px\" />"
   ]
  },
  {
   "cell_type": "markdown",
   "metadata": {},
   "source": [
    "#### Retrieving data in Firestore for your app\n",
    "Similarly, here is the interface and code for obtaining our newly added data in Firestore to our application. <br>\n",
    "docData is the variable storing the received data. <br>\n",
    "<b> Keep note that we are still using the same method for navigating through records (Collection.Document) <b>"
   ]
  },
  {
   "cell_type": "markdown",
   "metadata": {},
   "source": [
    "<img src=\"images/frontEndRead.png\" style=\"width:500px\" /> <img src=\"images/nodeJSRead.png\" style=\"width: 400px\" />"
   ]
  },
  {
   "cell_type": "markdown",
   "metadata": {},
   "source": [
    "#### Deleting records in Firestore for your app\n",
    "Deleting records is a simple delete() command after determining the location of your document. <br>\n",
    "<b> Keep note that we are still using the same method for navigating through records (Collection.Document) <b>"
   ]
  },
  {
   "cell_type": "markdown",
   "metadata": {},
   "source": [
    "<img src=\"images/frontEndDelete.png\" style=\"width:400px\" /> <img src=\"images/nodeJSDelete.png\" style=\"width:500px\" />"
   ]
  },
  {
   "cell_type": "markdown",
   "metadata": {},
   "source": [
    "You can view that your changes have been made in the Firestore console <br>\n",
    "On Firestore, if no more documents are associated with your collection, then on a page refresh, the collection will be omitted from your database."
   ]
  },
  {
   "cell_type": "markdown",
   "metadata": {},
   "source": [
    "<img src=\"images/firestoreDBDelete.png\" style=\"width:800px\" />"
   ]
  },
  {
   "cell_type": "markdown",
   "metadata": {},
   "source": [
    "# And there you have it, for reading, writing, and deleting records on Firestore in Javascript!"
   ]
  },
  {
   "cell_type": "markdown",
   "metadata": {},
   "source": [
    "# Authentication\n",
    "## Registering, and logging in with accounts\n",
    "Let's look back at our node JS code again. We've used the <b> db </b> object for interacting with Firestore. <br>\n",
    "Now, let's use the <b> admin </b> object to demonstrate Firebase's authorization services."
   ]
  },
  {
   "cell_type": "markdown",
   "metadata": {},
   "source": [
    "<img src=\"images/nodeInitialize.png\" style=\"width: 600px\" />"
   ]
  },
  {
   "cell_type": "markdown",
   "metadata": {},
   "source": [
    "#### Registering Users\n",
    " On our interface, I provided a simple form to verify the registration and logging in of an account. <br>\n",
    " For Firebase, the user's email must be valid (it must have @), and the password must be equal or greater than six characters."
   ]
  },
  {
   "cell_type": "markdown",
   "metadata": {},
   "source": []
  },
  {
   "cell_type": "code",
   "execution_count": null,
   "metadata": {},
   "outputs": [],
   "source": []
  },
  {
   "cell_type": "code",
   "execution_count": null,
   "metadata": {},
   "outputs": [],
   "source": []
  },
  {
   "cell_type": "code",
   "execution_count": null,
   "metadata": {},
   "outputs": [],
   "source": []
  },
  {
   "cell_type": "code",
   "execution_count": null,
   "metadata": {},
   "outputs": [],
   "source": []
  },
  {
   "cell_type": "code",
   "execution_count": null,
   "metadata": {},
   "outputs": [],
   "source": []
  },
  {
   "cell_type": "code",
   "execution_count": null,
   "metadata": {},
   "outputs": [],
   "source": []
  },
  {
   "cell_type": "code",
   "execution_count": null,
   "metadata": {},
   "outputs": [],
   "source": []
  },
  {
   "cell_type": "code",
   "execution_count": null,
   "metadata": {},
   "outputs": [],
   "source": []
  }
 ],
 "metadata": {
  "kernelspec": {
   "display_name": "Python 3",
   "language": "python",
   "name": "python3"
  },
  "language_info": {
   "codemirror_mode": {
    "name": "ipython",
    "version": 3
   },
   "file_extension": ".py",
   "mimetype": "text/x-python",
   "name": "python",
   "nbconvert_exporter": "python",
   "pygments_lexer": "ipython3",
   "version": "3.7.4"
  }
 },
 "nbformat": 4,
 "nbformat_minor": 4
}
