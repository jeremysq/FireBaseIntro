{
 "cells": [
  {
   "cell_type": "markdown",
   "metadata": {},
   "source": [
    "# An Introduction to Firebase"
   ]
  },
  {
   "cell_type": "markdown",
   "metadata": {},
   "source": [
    "#### Firebase is Google's platform for hosting and developing applications both on mobile and on the web:\n",
    "+ <b> Has its own built-in services to allow for ease of access for users being introduced to a web service infrastructure, as everything is on one platform. </b>\n",
    "+ <b> Integrated with authentication, storage, and a database on the get-go. </b>\n",
    "+ <b> Document-oriented database, rather than traditional relational database. More flexibility in the way data can be stored, but at the loss of structure. </b>"
   ]
  },
  {
   "cell_type": "markdown",
   "metadata": {},
   "source": [
    "## Personal Experience with Firebase:\n",
    " - <b> Used as a database interacting with a Python Flask server to store user data and paths to files </b>\n",
    " - <b> Front End development with creating users, registering them to a database, storing their roles & privileges, and extracting relevant info whenever they log in. </b>\n",
    " - <b> Recording data acquired from a user through an interface. </b>"
   ]
  },
  {
   "cell_type": "markdown",
   "metadata": {},
   "source": [
    "# Using Firebase\n",
    "##  Here, we will learn how to:\n",
    " - Set up Firebase on the Console\n",
    " - Setting up a Document and Collections\n",
    " - Retrieving, updating, and deleting Documents/Collections"
   ]
  },
  {
   "cell_type": "markdown",
   "metadata": {},
   "source": [
    "## Set up Firebase on the Console\n",
    " Start by creating a project:\n",
    "  - Enabling Google Analytics is entirely your choice. If so, the default settings are fine."
   ]
  },
  {
   "cell_type": "markdown",
   "metadata": {},
   "source": [
    "<img src=\"images/welcome.png\" style=\"width: 400px\" />  <img src=\"images/arrow.jpg\" style=\"width: 200px\" /> <img src=\"images/projectName.png\" style=\"width: 400px\" />"
   ]
  },
  {
   "cell_type": "markdown",
   "metadata": {},
   "source": [
    "### Project Overview\n",
    "This will be your project's homepage. <br>\n",
    "On the main console, you decide on what platform to set up Firebase with. <br>\n",
    "On the left-hand side, you can access general services that come with Firebase: <br>"
   ]
  },
  {
   "cell_type": "markdown",
   "metadata": {},
   "source": [
    "<img src=\"images/projectOverview.png\" style=\"width: 1000px\" />"
   ]
  },
  {
   "cell_type": "markdown",
   "metadata": {},
   "source": [
    "#### For the sake of this tutorial, we will set up an application for the Web ( </> ):\n",
    "  For this case, we will not set up Firebase Hosting. <br>\n",
    "  Firebase Hosting allows for you to host your webpages with Firebase integrated. You can read more about it <a href=\"https://firebase.google.com/docs/hosting/?authuser=0\"> here. </a>"
   ]
  },
  {
   "cell_type": "markdown",
   "metadata": {},
   "source": [
    "<img src=\"images/addFirebaseName.png\" style=\"width: 400px\" />"
   ]
  },
  {
   "cell_type": "markdown",
   "metadata": {},
   "source": [
    "### Registering your App on your web application\n",
    "  Once the name has been registered, Firebase provides a template to initialize the service on your application. <br>\n",
    "  For the web version, the template provided is written in JavaScript. <br>"
   ]
  },
  {
   "cell_type": "markdown",
   "metadata": {},
   "source": [
    "<img src=\"images/addFirebaseSDK.png\" style=\"width: 500px\" />"
   ]
  },
  {
   "cell_type": "markdown",
   "metadata": {},
   "source": [
    "#### The above mentioned code is written in JS. Let's implement it.\n",
    "  For this demonstration, we use the Node.js environment. <br>\n",
    "  I have developed a simple frontend that interacts with the Firestore to show how some methods work."
   ]
  },
  {
   "cell_type": "markdown",
   "metadata": {},
   "source": [
    "### Cloud Firestore\n",
    "#### Records in Firestore are stored in Collections, and Documents.\n",
    "  When trying to create new records, you will need to specify what collection, and document these records will be written to. <br>\n",
    "  <b> For this demonstration, I have built a basic NodeJS project that hosts a template to interact with Cloud Firestore </b> <br>\n",
    "  To get things started, go to the Database tab to allow Firestore as a service in your project: "
   ]
  },
  {
   "cell_type": "markdown",
   "metadata": {},
   "source": [
    "<img src=\"images/firestoreOverview.png\" style=\"width: 800px\" />"
   ]
  },
  {
   "cell_type": "markdown",
   "metadata": {},
   "source": [
    "#### Create a new database\n",
    "  For testing purposes, creating the database in test mode is recommended. <br>\n",
    "  All reading and writing restrictions are lifted for a maximum of 30 days, allowing you to test the Database without any restrictions set by the service."
   ]
  },
  {
   "cell_type": "markdown",
   "metadata": {},
   "source": [
    " <img src=\"images/firestoreCreate.png\" style=\"width: 500px\" />"
   ]
  },
  {
   "cell_type": "markdown",
   "metadata": {},
   "source": [
    "#### NodeJS backend\n",
    "  Here is a look at the Javascript backend, and how firebase was initialized:"
   ]
  },
  {
   "cell_type": "markdown",
   "metadata": {},
   "source": [
    "<img src=\"images/nodeInitialize.png\" style=\"width: 500px\" />"
   ]
  },
  {
   "cell_type": "markdown",
   "metadata": {},
   "source": [
    "The <b>require</b> statements imports firebase's services to your application. <br>\n",
    "If you don't have them installed in your project, navigate into the website folder, and run: <br>\n",
    "#### npm install firebase\n",
    "or\n",
    "#### yarn add firebase\n",
    "Depending if you're using npm or yarn as your JS packaging software.?"
   ]
  },
  {
   "cell_type": "markdown",
   "metadata": {},
   "source": [
    "#### Adding a record to your Database\n",
    " On the Firestore console, you can view your Database as such:"
   ]
  },
  {
   "cell_type": "markdown",
   "metadata": {},
   "source": [
    "<img src=\"images/firestoreDBConsole.png\" style=\"width: 700px\" />"
   ]
  },
  {
   "cell_type": "markdown",
   "metadata": {},
   "source": [
    "As mentioned before, there is an application made to help visualize the process of interacting with Firebase, here's a look at the interface:"
   ]
  },
  {
   "cell_type": "markdown",
   "metadata": {},
   "source": [
    "<img src=\"images/frontEndDefault.png\" style=\"images/width:500px\" />"
   ]
  },
  {
   "cell_type": "markdown",
   "metadata": {},
   "source": [
    "Since everything regarding Firebase(and its configuration) has been initialized already, we can already start interacting with our Database! <br>\n",
    "Here, we will add a record with: <br>\n",
    "Collection Name = 'Collection' <br>\n",
    "Document Name = 'Document' <br>\n",
    "and the corresponding values:"
   ]
  },
  {
   "cell_type": "markdown",
   "metadata": {},
   "source": [
    "<img src=\"images/frontEndAdd.png\" style=\"width: 500px;\" /> <img src=\"images/nodeJSAdd.png\" style=\"width: 500px;\" />?"
   ]
  },
  {
   "cell_type": "markdown",
   "metadata": {},
   "source": [
    "#### The left-hand side is the interface, the right-hand side is the function itself.\n",
    "  The right-hand side has had some of its parameters hardcoded just for this image to better give an idea of how data should be sent. <br>\n",
    "  <b> All interactions to Firebase must take this form of collection.document to navigate through records </b> <br>\n",
    "  Now if we take a look at Firestore, our new record has been added! <br>\n",
    "  <b> Adding fields to an existing Document in a Collection will NOT delete the current data in the record. It will add to it! </b>"
   ]
  },
  {
   "cell_type": "markdown",
   "metadata": {},
   "source": [
    "<img src=\"images/firestoreDBAdd.png\" style=\"width: 900px\" />"
   ]
  },
  {
   "cell_type": "markdown",
   "metadata": {},
   "source": [
    "#### Retrieving data in Firestore for your app\n",
    "Similarly, here is the interface and code for obtaining our newly added data in Firestore to our application. <br>\n",
    "docData is the variable storing the received data. <br>\n",
    "<b> Keep note that we are still using the same method for navigating through records (Collection.Document) <b>"
   ]
  },
  {
   "cell_type": "markdown",
   "metadata": {},
   "source": [
    "<img src=\"images/frontendRead.png\" style=\"width:500px\" /> <img src=\"images/nodeJSRead.png\" style=\"width: 400px\" />"
   ]
  },
  {
   "cell_type": "markdown",
   "metadata": {},
   "source": [
    "#### Deleting records in Firestore for your app\n",
    "Deleting records is a simple delete() command after determining the location of your document. <br>\n",
    "<b> Keep note that we are still using the same method for navigating through records (Collection.Document) <b>"
   ]
  },
  {
   "cell_type": "markdown",
   "metadata": {},
   "source": [
    "<img src=\"images/frontendDelete.png\" style=\"width:500px\" /> <img src=\"images/nodeJSDelete.png\" style=\"width:500px\" />"
   ]
  },
  {
   "cell_type": "markdown",
   "metadata": {},
   "source": [
    "You can view that your changes have been made in the Firestore console <br>\n",
    "On Firestore, if no more documents are associated with your collection, then on a page refresh, the collection will be omitted from your database."
   ]
  },
  {
   "cell_type": "markdown",
   "metadata": {},
   "source": [
    "<img src=\"images/firestoreDBDelete.png\" style=\"width:800px\" />"
   ]
  },
  {
   "cell_type": "markdown",
   "metadata": {},
   "source": [
    "# And there you have it, for reading, writing, and deleting records on Firestore in Javascript!"
   ]
  },
  {
   "cell_type": "markdown",
   "metadata": {},
   "source": [
    "# Authentication\n",
    "## Registering, and logging in with accounts\n",
    "Let's look back at our node JS code again. We've used the <b> db </b> object for interacting with Firestore. <br>\n",
    "Now, let's use the <b> admin </b> object to utilize Firebase's authorization services."
   ]
  },
  {
   "cell_type": "markdown",
   "metadata": {},
   "source": [
    "<img src=\"images/nodeInitialize.png\" style=\"width: 600px\" />"
   ]
  },
  {
   "cell_type": "markdown",
   "metadata": {},
   "source": [
    "<b> First, you will need to set up Authentication on the Firebase console before using it: </b>"
   ]
  },
  {
   "cell_type": "markdown",
   "metadata": {},
   "source": [
    "<img src=\"images/firebaseAuth.png\" style=\"width: 900px;\" />"
   ]
  },
  {
   "cell_type": "markdown",
   "metadata": {},
   "source": [
    "<img src=\"images/firebaseAuthproviders.png\" style=\"width: 800px;\" />"
   ]
  },
  {
   "cell_type": "markdown",
   "metadata": {},
   "source": [
    "#### There are different providers available for registering/signing in. \n",
    "They are each implemented in Firebase in slightly different ways, but the general pipeline for making and signing in with accounts is similar. <br>\n",
    "For the purpose of this demonstration, only <b> Email/Password </b> will be enabled."
   ]
  },
  {
   "cell_type": "markdown",
   "metadata": {},
   "source": [
    "### Registering Users\n",
    " On our interface, I provided a simple form to verify the registration and logging in of an account. <br>\n",
    " For Firebase, the user's email must be valid, and the password must be equal or greater than six characters."
   ]
  },
  {
   "cell_type": "markdown",
   "metadata": {},
   "source": [
    "<img src=\"images/frontEndCreateAccount.png\" width=\"style: 800px\" /> <img src=\"images/nodeJSCreateAccount.png\" width=\"style:400px\" />"
   ]
  },
  {
   "cell_type": "markdown",
   "metadata": {},
   "source": [
    "#### You can refer back to your Firesbase authentication console, and see that the new user has been added.\n",
    "Each user created is attached a UserID, which can be retrieved when logging in.\n",
    "<b> You can only disable/delete user accounts from the console itself. </b>"
   ]
  },
  {
   "cell_type": "markdown",
   "metadata": {},
   "source": [
    "<img src=\"images/firebaseUsers.png\" style=\"width: 1000px;\" />"
   ]
  },
  {
   "cell_type": "markdown",
   "metadata": {},
   "source": [
    "### Logging In with your newly created user!"
   ]
  },
  {
   "cell_type": "markdown",
   "metadata": {},
   "source": [
    "<img src=\"images/frontEndLogIn.png\" style=\"width:600px;\" /> <img src=\"images/nodeJSLogIn.png\" style=\"width:500px;\" />"
   ]
  },
  {
   "cell_type": "markdown",
   "metadata": {},
   "source": [
    "If you <b> right click the webpage, Inspect Element </b> and look in the console, you can see all the details the user has (shown by the <b> console.log(userDetails) </b> function call) <br>\n",
    "Here, you can see the email logged in, the authentication token given, the login method, and much more!"
   ]
  },
  {
   "cell_type": "markdown",
   "metadata": {},
   "source": [
    "<img src=\"images/frontEndLog.png\" />"
   ]
  },
  {
   "cell_type": "markdown",
   "metadata": {},
   "source": [
    "### Signing Out\n",
    "On the frontend interface, a Sign Out button will appear in the top-left if you have logged in properly. <br>\n",
    "The code that actually executes the function is shown:"
   ]
  },
  {
   "cell_type": "markdown",
   "metadata": {},
   "source": [
    "<img src=\"images/frontEndSignOut.png\" width=\"700px;\" /> <img src=\"images/nodeJSSignOut.png\" />"
   ]
  },
  {
   "cell_type": "code",
   "execution_count": null,
   "metadata": {},
   "outputs": [],
   "source": []
  },
  {
   "cell_type": "code",
   "execution_count": null,
   "metadata": {},
   "outputs": [],
   "source": []
  },
  {
   "cell_type": "code",
   "execution_count": null,
   "metadata": {},
   "outputs": [],
   "source": []
  },
  {
   "cell_type": "markdown",
   "metadata": {},
   "source": [
    "# Implementing Firebase in Python"
   ]
  },
  {
   "cell_type": "markdown",
   "metadata": {},
   "source": [
    "#### Firstly, generate a Firebase admin key\n",
    "In doing so, you will download a <b> .json </b> file containing your Firebase credentials. <b> Keep this file stored safely and securely! </b> <br>\n",
    "You will now be able to access Firebase services using this service account file."
   ]
  },
  {
   "cell_type": "markdown",
   "metadata": {},
   "source": [
    "<img src=\"images/firebaseAdminKey.png\" width=\"900px;\" />"
   ]
  },
  {
   "cell_type": "markdown",
   "metadata": {},
   "source": [
    "We'll use this Jupyter notebook to demonstrate these same features, but on the Python framework. <br>\n",
    "To run a block of code, use <b> SHIFT + ENTER </b> when selecting a Code block. <br>\n",
    "<b> Change the contents of yourFirebaseServiceAccount.json to your project's credentials to test out the following blocks of code. </b> <br>\n",
    "If some of these blocks yield import errors, try adding these modules to your python environment using these commands: <br>\n",
    "- <i> pip install firebase-admin </i>\n",
    "- <i> pip install firebase </i>\n",
    "- <i> pip install sseclient </i>"
   ]
  },
  {
   "cell_type": "code",
   "execution_count": null,
   "metadata": {},
   "outputs": [],
   "source": [
    "# Importing Firebase_admin modules\n",
    "import firebase_admin\n",
    "from firebase_admin import credentials\n",
    "from firebase_admin import firestore\n",
    "\n",
    "# Access Firebase by using your .json service account file\n",
    "cred = credentials.Certificate('./yourFirebaseServiceAccount.json')\n",
    "\n",
    "#Initialize Firebase services using your credentials.\n",
    "firebase_admin.initialize_app(cred)\n",
    "\n",
    "# Initialize the Firestore client\n",
    "db = firestore.client()"
   ]
  },
  {
   "cell_type": "markdown",
   "metadata": {},
   "source": [
    "## Adding data to Firestore in Python\n",
    "Manipulating data is similar between languages. <br>\n",
    "Remember, Firestore records are organized by Collections, and Documents."
   ]
  },
  {
   "cell_type": "code",
   "execution_count": null,
   "metadata": {},
   "outputs": [],
   "source": [
    "# Attempting to add data to the 'TestCollection' collection's 'TestDocument' document.\n",
    "doc_ref = db.collection(\"TestCollection\").document(\"TestDocument\")\n",
    "doc_ref.set({\n",
    "    \"1st Key\": \"First Value\",\n",
    "    \"2nd Key\": \"Second Value\"\n",
    "})"
   ]
  },
  {
   "cell_type": "markdown",
   "metadata": {},
   "source": [
    "Upon successfully adding data, it will output the time it took to add that record. <br>\n",
    "You can see the changes made in your Firestore database console:"
   ]
  },
  {
   "cell_type": "markdown",
   "metadata": {},
   "source": [
    "<img src=\"images/firebaseAddPython.png\" width=\"900px;\" />"
   ]
  },
  {
   "cell_type": "markdown",
   "metadata": {},
   "source": [
    "In Python, use the <b> merge=True </b> when setting elements to a record to <b> update it, instead of overwriting it </b>"
   ]
  },
  {
   "cell_type": "code",
   "execution_count": null,
   "metadata": {},
   "outputs": [],
   "source": [
    "# Using the merge parameter to add to the existing document.\n",
    "doc_ref = db.collection(\"TestCollection\").document(\"TestDocument\")\n",
    "doc_ref.set({\n",
    "    \"3rd Key\": \"Third Value\",\n",
    "    \"4th Key\": \"Fourth Value\"\n",
    "}, merge=True) # Not including this will overwrite the current document."
   ]
  },
  {
   "cell_type": "markdown",
   "metadata": {},
   "source": [
    "Or, you can use the <b> update() </b> function:"
   ]
  },
  {
   "cell_type": "code",
   "execution_count": null,
   "metadata": {},
   "outputs": [],
   "source": [
    "doc_ref = db.collection(\"TestCollection\").document(\"TestDocument\")\n",
    "doc_ref.update({\n",
    "    \"5th Key\": \"Fifth Value\"\n",
    "})"
   ]
  },
  {
   "cell_type": "markdown",
   "metadata": {},
   "source": [
    "Doing either of the above two functions will overwrite existing elements (not only add elements to existing documents) if they are specified."
   ]
  },
  {
   "cell_type": "markdown",
   "metadata": {},
   "source": [
    "## Reading data from Firestore in Python\n",
    "You can decide whether to read the contents of an entire collection, or a single document. <br>\n",
    "#### Reading contents of a Collection:"
   ]
  },
  {
   "cell_type": "code",
   "execution_count": null,
   "metadata": {},
   "outputs": [],
   "source": [
    "doc_ref = db.collection(\"TestCollection\")\n",
    "docs = doc_ref.stream() #Use the stream function to generate an iterator to read each document from the collection.\n",
    "\n",
    "print(\"Document => Contents\")\n",
    "print(\"--------\")\n",
    "\n",
    "#Using a loop to output the contents of each document within the collection\n",
    "for doc in docs:\n",
    "    print(\"{} => {}\".format(doc.id, doc.to_dict()))"
   ]
  },
  {
   "cell_type": "markdown",
   "metadata": {},
   "source": [
    "#### Reading contents from a specific Document:"
   ]
  },
  {
   "cell_type": "code",
   "execution_count": null,
   "metadata": {},
   "outputs": [],
   "source": [
    "# Simply specify the document to read data from.\n",
    "doc_ref = db.collection(\"TestCollection\").document(\"TestDocument\")\n",
    "\n",
    "documentDetails = doc_ref.get().to_dict() #Using a combination of get() and to_dict() will yield the \n",
    "\n",
    "print(\"Here are the contents of the document: \", documentDetails)"
   ]
  },
  {
   "cell_type": "code",
   "execution_count": null,
   "metadata": {},
   "outputs": [],
   "source": []
  },
  {
   "cell_type": "markdown",
   "metadata": {},
   "source": [
    "## Deleting data Firestore in Python\n",
    "Similar to the method in NodeJS. <br>\n",
    "The time taken to delete the record should be outputted upon completion.\n",
    "#### Deleting a collection:"
   ]
  },
  {
   "cell_type": "code",
   "execution_count": null,
   "metadata": {},
   "outputs": [],
   "source": [
    "doc_ref = db.collection(\"TestCollection\")\n",
    "docs = doc_ref.stream()\n",
    "for doc in docs:\n",
    "    print(\"Deleting document: {} => {}\".format(doc.id, doc.to_dict()))\n",
    "    doc.reference.delete()"
   ]
  },
  {
   "cell_type": "markdown",
   "metadata": {},
   "source": [
    "#### Deleting a specific document within a collection:\n",
    "Once a collection has no more documents within it, it will be automatically removed from the database."
   ]
  },
  {
   "cell_type": "code",
   "execution_count": null,
   "metadata": {},
   "outputs": [],
   "source": [
    "db.collection(\"TestCollection\").document(\"TestDocument\").delete()"
   ]
  },
  {
   "cell_type": "markdown",
   "metadata": {},
   "source": [
    "## Firebase authentication in Python\n",
    "Let's look at using the authentication module for Firebase in python:"
   ]
  },
  {
   "cell_type": "code",
   "execution_count": null,
   "metadata": {},
   "outputs": [],
   "source": [
    "from firebase_admin import auth"
   ]
  },
  {
   "cell_type": "markdown",
   "metadata": {},
   "source": [
    "#### Creating an Account\n",
    "You can create a user, and also access the newly created account's info."
   ]
  },
  {
   "cell_type": "code",
   "execution_count": null,
   "metadata": {},
   "outputs": [],
   "source": [
    "# Specify the user's email and password either in parameters, or hard-code them.\n",
    "# For this demo, the emails and passwords are hardcoded.\n",
    "\n",
    "newuser = auth.create_user(email=\"demo@newsci.ai\", password=\"password\") # Creating User"
   ]
  },
  {
   "cell_type": "code",
   "execution_count": null,
   "metadata": {},
   "outputs": [],
   "source": [
    "# Accessing some of the user's information after creating the account:\n",
    "print(\"User Email: \", newuser.email)\n",
    "print(\"User ID: \", newuser.uid)\n",
    "print(\"How long until this user's login token is invalid?: \", newuser.tokens_valid_after_timestamp, \"ms\")\n",
    "print(\"Is this user disabled?: \", newuser.disabled)\n",
    "\n",
    "# In the user's metadata, other activity features can be yielded:\n",
    "print(\"User Metadata (Time when created): \", newuser.user_metadata.creation_timestamp)\n",
    "print(\"User Metadata (Time last active): \", newuser.user_metadata.last_refresh_timestamp)\n",
    "print(\"User Metadata (Time last signed in): \", newuser.user_metadata.last_refresh_timestamp)"
   ]
  },
  {
   "cell_type": "markdown",
   "metadata": {},
   "source": [
    "#### If you store a User's ID (UID) or sign up Email somewhere, you can always get extensive information about them.\n",
    "A user's ID can always be found in the Firebase authentication console."
   ]
  },
  {
   "cell_type": "code",
   "execution_count": null,
   "metadata": {},
   "outputs": [],
   "source": [
    "#Retrieving the newly created user's details.\n",
    "newuserdetails = auth.get_user(newuser.uid) # By user ID\n",
    "newuserdetails = auth.get_user_by_email(newuser.email) # By user email\n",
    "\n",
    "# Outputting some details about the user:\n",
    "print(\"User Email: \", newuserdetails.email)\n",
    "print(\"User ID: \", newuserdetails.uid)\n",
    "print(\"How long until this user's login token is invalid?: \", newuserdetails.tokens_valid_after_timestamp, \"ms\")\n",
    "print(\"Is this user disabled?: \", newuserdetails.disabled)"
   ]
  },
  {
   "cell_type": "markdown",
   "metadata": {},
   "source": [
    "#### You can also delete a user knowing their User ID (UID)"
   ]
  },
  {
   "cell_type": "code",
   "execution_count": null,
   "metadata": {},
   "outputs": [],
   "source": [
    "deleteuser = auth.delete_user(newuserdetails.uid)"
   ]
  },
  {
   "cell_type": "markdown",
   "metadata": {},
   "source": [
    "#### Likewise, you can delete users from the Firebase console, as well."
   ]
  },
  {
   "cell_type": "markdown",
   "metadata": {},
   "source": [
    "### Signing into an Account\n",
    "#### For account creation, deletion, manipulation, we use firebase_admin module.\n",
    "#### For account sign in/out, we use firebase module. \n",
    "<br>\n",
    "Firebase must be initialized again, since it is separate from firebase_admin. <br>\n",
    "<b> You will use the configuration given in the Firebase console for credentials </b> <br>"
   ]
  },
  {
   "cell_type": "code",
   "execution_count": null,
   "metadata": {},
   "outputs": [],
   "source": [
    "from firebase import Firebase\n",
    "\n",
    "# Credentials gained from your firebase project\n",
    "# CHANGE THESE TO YOUR FIREBASE PROJECT CREDENTIALS\n",
    "firebaseConfig = {\n",
    "  \"apiKey\": 'your_apiKey',\n",
    "  \"authDomain\": 'your_authDomain',\n",
    "  \"databaseURL\": 'your_databaseURL',\n",
    "  \"projectId\": 'your_projectId',\n",
    "  \"storageBucket\": 'your_storageBucket',\n",
    "  \"messagingSenderId\": 'your_messagingSenderId',\n",
    "  \"appId\": 'appId',\n",
    "  \"measurementId\": 'your_measurementId'\n",
    "}\n",
    "\n",
    "firebase = Firebase(firebaseConfig) # Initializing Firebase client (Not admin)\n",
    "fireauth = firebase.auth() # Initializing authentication for Firebase\n",
    "\n"
   ]
  },
  {
   "cell_type": "code",
   "execution_count": null,
   "metadata": {},
   "outputs": [],
   "source": [
    "#Signing in with user.\n",
    "currentuser = fireauth.sign_in_with_email_and_password('demo@newsci.ai', 'password')\n",
    "\n",
    "#Printing out data gained from signing in.\n",
    "for key, value in currentuser.items():\n",
    "    print(key, ' : ', value)"
   ]
  },
  {
   "cell_type": "markdown",
   "metadata": {},
   "source": [
    "#### A user is signed out once their refreshToken expires.\n",
    "#### This token expires in 1 hour (expiresIn: 3600 (seconds))"
   ]
  },
  {
   "cell_type": "code",
   "execution_count": null,
   "metadata": {},
   "outputs": [],
   "source": []
  },
  {
   "cell_type": "code",
   "execution_count": null,
   "metadata": {},
   "outputs": [],
   "source": []
  },
  {
   "cell_type": "code",
   "execution_count": null,
   "metadata": {},
   "outputs": [],
   "source": []
  },
  {
   "cell_type": "markdown",
   "metadata": {},
   "source": [
    "# firebase_auth and firebase python modules\n",
    "#### Tidbits about similarities and differences between the two.\n",
    "I decided to write this segment up because Google Cloud Platform incentivizes the user to use the firebase_admin module for updating firestore and dealing with authentication in Python. <br>\n",
    "However, they rarely, or entirely do not mention the python firebase module in their own documentation, which to my knowledge, is the only module allowing for some user authorization interactivity that is not available in firebase_admin. <br>\n",
    "It may be due to the fact that they prefer the user to use the JavaScript SDK instead for that sort of objective; though, there may be some use case for a Python environment. <br>\n",
    "- firebase_admin prefers using service account JSONs\n",
    "- firebase_admin can create, delete, and update a user's security information.\n",
    "- firebase prefers using configurations given by console.\n",
    "- firebase can sign in, sign out, and send password reset emails to the user.\n",
    "- firebase is, from my understanding, no different than the other helper library, <a href=\"https://github.com/thisbejim/Pyrebase\"> Pyrebase</a>.\n",
    "- <b> BOTH </b> firebase_admin and firebase can add, read, and delete records in firestore. (Functions for firebase are slightly different, however)\n",
    "\n",
    "For details involving the <a href=\"https://pypi.org/project/firebase/\"> firebase module. </a> <br>\n",
    "For details involving the <a href=\"https://firebase.google.com/docs/reference/admin/python\"> firebase_admin module. </a>\n",
    "\n",
    "It could be said that one should prefer to use firebase_admin for most services, as it is Google recommended and has more features one can utilize, however opens the accessibility of the project to more people."
   ]
  },
  {
   "cell_type": "markdown",
   "metadata": {},
   "source": [
    "## Here are just some of the essential services provided with Firebase!\n",
    "For a view on this whole introduction, including the interface frontend and NodeJS backend, you can go <a href=\"https://github.com/jeremysq/FirebaseIntro\"> here </a>"
   ]
  },
  {
   "cell_type": "code",
   "execution_count": null,
   "metadata": {},
   "outputs": [],
   "source": []
  }
 ],
 "metadata": {
  "kernelspec": {
   "display_name": "Python 3",
   "language": "python",
   "name": "python3"
  },
  "language_info": {
   "codemirror_mode": {
    "name": "ipython",
    "version": 3
   },
   "file_extension": ".py",
   "mimetype": "text/x-python",
   "name": "python",
   "nbconvert_exporter": "python",
   "pygments_lexer": "ipython3",
   "version": "3.7.4"
  }
 },
 "nbformat": 4,
 "nbformat_minor": 4
}
